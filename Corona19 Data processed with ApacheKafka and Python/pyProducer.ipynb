{
 "cells": [
  {
   "cell_type": "code",
   "execution_count": 2,
   "metadata": {},
   "outputs": [],
   "source": [
    "from kafka import KafkaProducer\n",
    "from json import loads\n",
    "import json\n",
    "import requests\n",
    "from time import sleep\n",
    "\n",
    "#list of all data from first date\n",
    "#URL = \"https://api.covid19api.com/total/dayone/country/germany/status/confirmed\"\n",
    "URL =\"https://api.covid19api.com/live/country/germany/status/confirmed/date/2020-04-20T13:13:30Z\"\n",
    "req = requests.get(url = URL)\n",
    "data = req.json()\n",
    "producer = KafkaProducer(bootstrap_servers = ['localhost:9092'], value_serializer=lambda v: json.dumps(v).encode('utf-8'))\n",
    "\n",
    "for i in range (len(data)):\n",
    "    file = data[i]\n",
    "    sleep(1)\n",
    "    producer.send('py', value=str(file[\"Date\"].split(\"T\")[0])+':'+str(file[\"Active\"]))\n",
    "   "
   ]
  },
  {
   "cell_type": "code",
   "execution_count": null,
   "metadata": {},
   "outputs": [],
   "source": []
  }
 ],
 "metadata": {
  "kernelspec": {
   "display_name": "Python 3",
   "language": "python",
   "name": "python3"
  },
  "language_info": {
   "codemirror_mode": {
    "name": "ipython",
    "version": 3
   },
   "file_extension": ".py",
   "mimetype": "text/x-python",
   "name": "python",
   "nbconvert_exporter": "python",
   "pygments_lexer": "ipython3",
   "version": "3.7.6"
  }
 },
 "nbformat": 4,
 "nbformat_minor": 4
}
